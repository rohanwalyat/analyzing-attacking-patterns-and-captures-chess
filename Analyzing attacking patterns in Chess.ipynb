{
 "cells": [
  {
   "cell_type": "code",
   "execution_count": 294,
   "metadata": {
    "collapsed": true
   },
   "outputs": [],
   "source": [
    "import pandas as pd\n",
    "import networkx as nx\n",
    "import matplotlib.pyplot as plt\n",
    "import numpy as np\n",
    "import seaborn as sns"
   ]
  },
  {
   "cell_type": "code",
   "execution_count": 2,
   "outputs": [
    {
     "data": {
      "text/plain": "                Event            White       Black Result  WhiteElo  BlackElo  \\\n0          Classical           eisaaaa    HAMID449    1-0      1901      1896   \n1              Blitz            go4jas  Sergei1973    0-1      1641      1627   \n2   Blitz tournament   Evangelistaizac      kafune    1-0      1647      1688   \n3     Correspondence            Jvayne    Wsjvayne    1-0      1706      1317   \n4   Blitz tournament            kyoday   BrettDale    0-1      1945      1900   \n\n   ECO                                        Opening TimeControl  \\\n0  D10                                   Slav Defense       300+5   \n1  C20                      King's Pawn Opening: 2.b3       300+0   \n2  B01  Scandinavian Defense: Mieses-Kotroc Variation       180+0   \n3  A00                           Van't Kruijs Opening           -   \n4  B90    Sicilian Defense: Najdorf, Lipnitsky Attack       180+0   \n\n    Termination                                                 AN  \n0  Time forfeit  1. d4 d5 2. c4 c6 3. e3 a6 4. Nf3 e5 5. cxd5 e...  \n1        Normal  1. e4 e5 2. b3 Nf6 3. Bb2 Nc6 4. Nf3 d6 5. d3 ...  \n2  Time forfeit  1. e4 d5 2. exd5 Qxd5 3. Nf3 Bg4 4. Be2 Nf6 5....  \n3        Normal  1. e3 Nf6 2. Bc4 d6 3. e4 e6 4. Nf3 Nxe4 5. Nd...  \n4  Time forfeit  1. e4 c5 2. Nf3 d6 3. d4 cxd4 4. Nxd4 Nf6 5. N...  ",
      "text/html": "<div>\n<style scoped>\n    .dataframe tbody tr th:only-of-type {\n        vertical-align: middle;\n    }\n\n    .dataframe tbody tr th {\n        vertical-align: top;\n    }\n\n    .dataframe thead th {\n        text-align: right;\n    }\n</style>\n<table border=\"1\" class=\"dataframe\">\n  <thead>\n    <tr style=\"text-align: right;\">\n      <th></th>\n      <th>Event</th>\n      <th>White</th>\n      <th>Black</th>\n      <th>Result</th>\n      <th>WhiteElo</th>\n      <th>BlackElo</th>\n      <th>ECO</th>\n      <th>Opening</th>\n      <th>TimeControl</th>\n      <th>Termination</th>\n      <th>AN</th>\n    </tr>\n  </thead>\n  <tbody>\n    <tr>\n      <th>0</th>\n      <td>Classical</td>\n      <td>eisaaaa</td>\n      <td>HAMID449</td>\n      <td>1-0</td>\n      <td>1901</td>\n      <td>1896</td>\n      <td>D10</td>\n      <td>Slav Defense</td>\n      <td>300+5</td>\n      <td>Time forfeit</td>\n      <td>1. d4 d5 2. c4 c6 3. e3 a6 4. Nf3 e5 5. cxd5 e...</td>\n    </tr>\n    <tr>\n      <th>1</th>\n      <td>Blitz</td>\n      <td>go4jas</td>\n      <td>Sergei1973</td>\n      <td>0-1</td>\n      <td>1641</td>\n      <td>1627</td>\n      <td>C20</td>\n      <td>King's Pawn Opening: 2.b3</td>\n      <td>300+0</td>\n      <td>Normal</td>\n      <td>1. e4 e5 2. b3 Nf6 3. Bb2 Nc6 4. Nf3 d6 5. d3 ...</td>\n    </tr>\n    <tr>\n      <th>2</th>\n      <td>Blitz tournament</td>\n      <td>Evangelistaizac</td>\n      <td>kafune</td>\n      <td>1-0</td>\n      <td>1647</td>\n      <td>1688</td>\n      <td>B01</td>\n      <td>Scandinavian Defense: Mieses-Kotroc Variation</td>\n      <td>180+0</td>\n      <td>Time forfeit</td>\n      <td>1. e4 d5 2. exd5 Qxd5 3. Nf3 Bg4 4. Be2 Nf6 5....</td>\n    </tr>\n    <tr>\n      <th>3</th>\n      <td>Correspondence</td>\n      <td>Jvayne</td>\n      <td>Wsjvayne</td>\n      <td>1-0</td>\n      <td>1706</td>\n      <td>1317</td>\n      <td>A00</td>\n      <td>Van't Kruijs Opening</td>\n      <td>-</td>\n      <td>Normal</td>\n      <td>1. e3 Nf6 2. Bc4 d6 3. e4 e6 4. Nf3 Nxe4 5. Nd...</td>\n    </tr>\n    <tr>\n      <th>4</th>\n      <td>Blitz tournament</td>\n      <td>kyoday</td>\n      <td>BrettDale</td>\n      <td>0-1</td>\n      <td>1945</td>\n      <td>1900</td>\n      <td>B90</td>\n      <td>Sicilian Defense: Najdorf, Lipnitsky Attack</td>\n      <td>180+0</td>\n      <td>Time forfeit</td>\n      <td>1. e4 c5 2. Nf3 d6 3. d4 cxd4 4. Nxd4 Nf6 5. N...</td>\n    </tr>\n  </tbody>\n</table>\n</div>"
     },
     "execution_count": 2,
     "metadata": {},
     "output_type": "execute_result"
    }
   ],
   "source": [
    "df = pd.read_csv('chess_games_updated.csv')\n",
    "df.head()"
   ],
   "metadata": {
    "collapsed": false
   }
  },
  {
   "cell_type": "code",
   "execution_count": 3,
   "outputs": [
    {
     "data": {
      "text/plain": "                Event            White       Black Result  WhiteElo  BlackElo  \\\n0          Classical           eisaaaa    HAMID449    1-0      1901      1896   \n1              Blitz            go4jas  Sergei1973    0-1      1641      1627   \n2   Blitz tournament   Evangelistaizac      kafune    1-0      1647      1688   \n3     Correspondence            Jvayne    Wsjvayne    1-0      1706      1317   \n4   Blitz tournament            kyoday   BrettDale    0-1      1945      1900   \n\n   ECO               Opening TimeControl   Termination  \\\n0  D10          Slav Defense       300+5  Time forfeit   \n1  C20   King's Pawn Opening       300+0        Normal   \n2  B01  Scandinavian Defense       180+0  Time forfeit   \n3  A00  Van't Kruijs Opening           -        Normal   \n4  B90      Sicilian Defense       180+0  Time forfeit   \n\n                                                  AN  \\\n0  1. d4 d5 2. c4 c6 3. e3 a6 4. Nf3 e5 5. cxd5 e...   \n1  1. e4 e5 2. b3 Nf6 3. Bb2 Nc6 4. Nf3 d6 5. d3 ...   \n2  1. e4 d5 2. exd5 Qxd5 3. Nf3 Bg4 4. Be2 Nf6 5....   \n3  1. e3 Nf6 2. Bc4 d6 3. e4 e6 4. Nf3 Nxe4 5. Nd...   \n4  1. e4 c5 2. Nf3 d6 3. d4 cxd4 4. Nxd4 Nf6 5. N...   \n\n                    Variation Subvariation  \n0                        None         None  \n1                        2.b3         None  \n2     Mieses-Kotroc Variation         None  \n3                        None         None  \n4   Najdorf, Lipnitsky Attack         None  ",
      "text/html": "<div>\n<style scoped>\n    .dataframe tbody tr th:only-of-type {\n        vertical-align: middle;\n    }\n\n    .dataframe tbody tr th {\n        vertical-align: top;\n    }\n\n    .dataframe thead th {\n        text-align: right;\n    }\n</style>\n<table border=\"1\" class=\"dataframe\">\n  <thead>\n    <tr style=\"text-align: right;\">\n      <th></th>\n      <th>Event</th>\n      <th>White</th>\n      <th>Black</th>\n      <th>Result</th>\n      <th>WhiteElo</th>\n      <th>BlackElo</th>\n      <th>ECO</th>\n      <th>Opening</th>\n      <th>TimeControl</th>\n      <th>Termination</th>\n      <th>AN</th>\n      <th>Variation</th>\n      <th>Subvariation</th>\n    </tr>\n  </thead>\n  <tbody>\n    <tr>\n      <th>0</th>\n      <td>Classical</td>\n      <td>eisaaaa</td>\n      <td>HAMID449</td>\n      <td>1-0</td>\n      <td>1901</td>\n      <td>1896</td>\n      <td>D10</td>\n      <td>Slav Defense</td>\n      <td>300+5</td>\n      <td>Time forfeit</td>\n      <td>1. d4 d5 2. c4 c6 3. e3 a6 4. Nf3 e5 5. cxd5 e...</td>\n      <td>None</td>\n      <td>None</td>\n    </tr>\n    <tr>\n      <th>1</th>\n      <td>Blitz</td>\n      <td>go4jas</td>\n      <td>Sergei1973</td>\n      <td>0-1</td>\n      <td>1641</td>\n      <td>1627</td>\n      <td>C20</td>\n      <td>King's Pawn Opening</td>\n      <td>300+0</td>\n      <td>Normal</td>\n      <td>1. e4 e5 2. b3 Nf6 3. Bb2 Nc6 4. Nf3 d6 5. d3 ...</td>\n      <td>2.b3</td>\n      <td>None</td>\n    </tr>\n    <tr>\n      <th>2</th>\n      <td>Blitz tournament</td>\n      <td>Evangelistaizac</td>\n      <td>kafune</td>\n      <td>1-0</td>\n      <td>1647</td>\n      <td>1688</td>\n      <td>B01</td>\n      <td>Scandinavian Defense</td>\n      <td>180+0</td>\n      <td>Time forfeit</td>\n      <td>1. e4 d5 2. exd5 Qxd5 3. Nf3 Bg4 4. Be2 Nf6 5....</td>\n      <td>Mieses-Kotroc Variation</td>\n      <td>None</td>\n    </tr>\n    <tr>\n      <th>3</th>\n      <td>Correspondence</td>\n      <td>Jvayne</td>\n      <td>Wsjvayne</td>\n      <td>1-0</td>\n      <td>1706</td>\n      <td>1317</td>\n      <td>A00</td>\n      <td>Van't Kruijs Opening</td>\n      <td>-</td>\n      <td>Normal</td>\n      <td>1. e3 Nf6 2. Bc4 d6 3. e4 e6 4. Nf3 Nxe4 5. Nd...</td>\n      <td>None</td>\n      <td>None</td>\n    </tr>\n    <tr>\n      <th>4</th>\n      <td>Blitz tournament</td>\n      <td>kyoday</td>\n      <td>BrettDale</td>\n      <td>0-1</td>\n      <td>1945</td>\n      <td>1900</td>\n      <td>B90</td>\n      <td>Sicilian Defense</td>\n      <td>180+0</td>\n      <td>Time forfeit</td>\n      <td>1. e4 c5 2. Nf3 d6 3. d4 cxd4 4. Nxd4 Nf6 5. N...</td>\n      <td>Najdorf, Lipnitsky Attack</td>\n      <td>None</td>\n    </tr>\n  </tbody>\n</table>\n</div>"
     },
     "execution_count": 3,
     "metadata": {},
     "output_type": "execute_result"
    }
   ],
   "source": [
    "df[['Opening', 'Variation', 'Subvariation']] = df['Opening'].str.split(':', expand=True)\n",
    "df.head()"
   ],
   "metadata": {
    "collapsed": false
   }
  },
  {
   "cell_type": "code",
   "execution_count": 343,
   "outputs": [],
   "source": [
    "G = nx.DiGraph()\n",
    "board = []\n",
    "for _ in {'a', 'b', 'c', 'd', 'e', 'f', 'g', 'h'}:\n",
    "    for i in range(1,9):\n",
    "        board.append(_ + str(i))\n",
    "        G.add_node(_ + str(i))\n",
    "\n",
    "for _ in {'a', 'b', 'c', 'd', 'e', 'f', 'g', 'h'}:\n",
    "    G.add_node(_)\n",
    "\n",
    "for _ in {'R', 'N', 'B', 'Q', 'K'}:\n",
    "    G.add_node(_)\n",
    "\n",
    "for _ in {'R', 'N', 'B', 'Q', 'K'}:\n",
    "    for f in {'a', 'b', 'c', 'd', 'e', 'f', 'g', 'h', 1, 2, 3, 4, 5, 6, 7, 8}:\n",
    "        G.add_node(_+str(f))\n",
    "\n",
    "for u in G.nodes:\n",
    "    for v in G.nodes:\n",
    "        G.add_edge(u, v, weight = 0)"
   ],
   "metadata": {
    "collapsed": false
   }
  },
  {
   "cell_type": "code",
   "execution_count": 374,
   "outputs": [],
   "source": [
    "for _ in df['AN']:\n",
    "    for char in range(0, len(_)):\n",
    "        if _[char] == 'x' and _[char-1] in {'R', 'N', 'B', 'Q', 'K'} and _[char-5] == '.':\n",
    "            w = G.edges[_[char-1], _[char+1]+_[char+2]]['weight']\n",
    "            G.add_edge(_[char-1], _[char+1]+_[char+2], weight = w+1)"
   ],
   "metadata": {
    "collapsed": false
   }
  },
  {
   "cell_type": "code",
   "execution_count": 375,
   "outputs": [
    {
     "data": {
      "text/plain": "<Figure size 432x288 with 1 Axes>",
      "image/png": "[encoded data removed]"
     },
     "metadata": {},
     "output_type": "display_data"
    }
   ],
   "source": [
    "Q = [[0 for i in range(8)] for j in range(8)]\n",
    "for u,v,d in G.edges(data=True):\n",
    "    if u == 'Q' and v in board:\n",
    "        f = int(ord(v[0])-96)-1\n",
    "        r = int(v[1])-1\n",
    "        Q[f][r] = d['weight']\n",
    "\n",
    "ax = sns.heatmap(Q, linewidth=0.5, square=True, cbar=False, xticklabels=False, yticklabels=False, cmap='Blues_r')\n",
    "ax.invert_yaxis()\n",
    "\n",
    "plt.show()"
   ],
   "metadata": {
    "collapsed": false
   }
  },
  {
   "cell_type": "code",
   "execution_count": 376,
   "outputs": [
    {
     "data": {
      "text/plain": "<Figure size 432x288 with 1 Axes>",
      "image/png": "[encoded data removed]"
     },
     "metadata": {},
     "output_type": "display_data"
    }
   ],
   "source": [
    "B = [[0 for i in range(8)] for j in range(8)]\n",
    "for u,v,d in G.edges(data=True):\n",
    "    if u == 'B' and v in board:\n",
    "        f = int(ord(v[0])-96)-1\n",
    "        r = int(v[1])-1\n",
    "        B[f][r] = d['weight']\n",
    "\n",
    "ax = sns.heatmap(B, linewidth=0.5, square=True, cbar=False, xticklabels=False, yticklabels=False, cmap='Blues_r')\n",
    "ax.invert_yaxis()\n",
    "\n",
    "plt.show()"
   ],
   "metadata": {
    "collapsed": false
   }
  },
  {
   "cell_type": "code",
   "execution_count": 377,
   "outputs": [
    {
     "data": {
      "text/plain": "<Figure size 432x288 with 1 Axes>",
      "image/png": "[encoded data removed]"
     },
     "metadata": {},
     "output_type": "display_data"
    }
   ],
   "source": [
    "N = [[0 for i in range(8)] for j in range(8)]\n",
    "for u, v, d in G.edges(data=True):\n",
    "    if u == 'N' and v in board:\n",
    "        f = int(ord(v[0]) - 96) - 1\n",
    "        r = int(v[1]) - 1\n",
    "        K[f][r] = d['weight']\n",
    "\n",
    "ax = sns.heatmap(K, linewidth=0.5, square=True, cbar=False, xticklabels=False, yticklabels=False, cmap='Blues_r')\n",
    "ax.invert_yaxis()\n",
    "\n",
    "plt.show()"
   ],
   "metadata": {
    "collapsed": false
   }
  },
  {
   "cell_type": "code",
   "execution_count": 378,
   "outputs": [
    {
     "data": {
      "text/plain": "<Figure size 432x288 with 1 Axes>",
      "image/png": "[encoded data removed]"
     },
     "metadata": {},
     "output_type": "display_data"
    }
   ],
   "source": [
    "R = [[0 for i in range(8)] for j in range(8)]\n",
    "for u, v, d in G.edges(data=True):\n",
    "    if u == 'R' and v in board:\n",
    "        f = int(ord(v[0]) - 96) - 1\n",
    "        r = int(v[1]) - 1\n",
    "        R[f][r] = d['weight']\n",
    "\n",
    "ax = sns.heatmap(R, linewidth=0.5, square=True, cbar=False, xticklabels=False, yticklabels=False, cmap='Blues_r')\n",
    "ax.invert_yaxis()\n",
    "\n",
    "plt.show()"
   ],
   "metadata": {
    "collapsed": false
   }
  },
  {
   "cell_type": "code",
   "execution_count": 353,
   "outputs": [],
   "source": [
    "C = nx.DiGraph()\n",
    "board = []\n",
    "for _ in {'a', 'b', 'c', 'd', 'e', 'f', 'g', 'h'}:\n",
    "    for i in range(1,9):\n",
    "        board.append(_ + str(i))\n",
    "        C.add_node(_ + str(i))\n",
    "\n",
    "for _ in {'a', 'b', 'c', 'd', 'e', 'f', 'g', 'h'}:\n",
    "    C.add_node(_)\n",
    "\n",
    "for _ in {'R', 'N', 'B', 'Q', 'K'}:\n",
    "    C.add_node(_, color='blue', weight=0)\n",
    "\n",
    "for _ in {'R', 'N', 'B', 'Q'}:\n",
    "    for f in {'a', 'b', 'c', 'd', 'e', 'f', 'g', 'h', 1, 2, 3, 4, 5, 6, 7, 8}:\n",
    "        C.add_node(_+str(f))\n",
    "\n",
    "for u in C.nodes:\n",
    "    for v in C.nodes:\n",
    "        C.add_edge(u, v, weight = 0)"
   ],
   "metadata": {
    "collapsed": false
   }
  },
  {
   "cell_type": "code",
   "execution_count": 369,
   "outputs": [],
   "source": [
    "for _ in df['AN']:\n",
    "    for char in range(0, len(_)):\n",
    "        if _[char] == '+' and _[char-3] in {'R', 'N', 'B', 'Q'} and _[char-5] == '.':\n",
    "            w = C.edges[_[char-3], _[char-2]+_[char-1]]['weight']\n",
    "            C.add_edge(_[char-3], _[char-2]+_[char-1], weight = w+1)"
   ],
   "metadata": {
    "collapsed": false
   }
  },
  {
   "cell_type": "code",
   "execution_count": 370,
   "outputs": [
    {
     "data": {
      "text/plain": "<Figure size 432x288 with 1 Axes>",
      "image/png": "[encoded data removed]"
     },
     "metadata": {
      "needs_background": "light"
     },
     "output_type": "display_data"
    }
   ],
   "source": [
    "Q = [[0 for i in range(8)] for j in range(8)]\n",
    "for u,v,d in C.edges(data=True):\n",
    "    if u == 'Q' and v in board:\n",
    "        f = int(ord(v[0])-96)-1\n",
    "        r = int(v[1])-1\n",
    "        Q[f][r] = d['weight']\n",
    "\n",
    "fig = plt.figure(frameon=False)\n",
    "\n",
    "extent = 1,8,1,8\n",
    "chessboard = np.add.outer(range(8), range(8)) % 2  # chessboard\n",
    "im1 = plt.imshow(chessboard, cmap=plt.cm.gray, alpha=0.2,interpolation='nearest', extent=extent)\n",
    "im2 = plt.imshow(Q, cmap=plt.cm.jet, alpha=0.8, origin='lower', extent=extent)\n",
    "\n",
    "plt.show()"
   ],
   "metadata": {
    "collapsed": false
   }
  },
  {
   "cell_type": "code",
   "execution_count": 371,
   "outputs": [
    {
     "data": {
      "text/plain": "<Figure size 432x288 with 1 Axes>",
      "image/png": "[encoded data removed]"
     },
     "metadata": {
      "needs_background": "light"
     },
     "output_type": "display_data"
    }
   ],
   "source": [
    "B = [[0 for i in range(8)] for j in range(8)]\n",
    "for u,v,d in C.edges(data=True):\n",
    "    if u == 'B' and v in board:\n",
    "        f = int(ord(v[0])-96)-1\n",
    "        r = int(v[1])-1\n",
    "        B[f][r] = d['weight']\n",
    "\n",
    "fig = plt.figure(frameon=False)\n",
    "\n",
    "extent = 1,8,1,8\n",
    "chessboard = np.add.outer(range(8), range(8)) % 2  # chessboard\n",
    "im1 = plt.imshow(chessboard, cmap=plt.cm.gray, alpha=0.2,interpolation='nearest', extent=extent)\n",
    "im2 = plt.imshow(B, cmap=plt.cm.jet, alpha=0.8, origin='lower', extent=extent)\n",
    "\n",
    "plt.show()"
   ],
   "metadata": {
    "collapsed": false
   }
  },
  {
   "cell_type": "code",
   "execution_count": 372,
   "outputs": [
    {
     "data": {
      "text/plain": "<Figure size 432x288 with 1 Axes>",
      "image/png": "[encoded data removed]"
     },
     "metadata": {
      "needs_background": "light"
     },
     "output_type": "display_data"
    }
   ],
   "source": [
    "N = [[0 for i in range(8)] for j in range(8)]\n",
    "for u,v,d in C.edges(data=True):\n",
    "    if u == 'N' and v in board:\n",
    "        f = int(ord(v[0])-96)-1\n",
    "        r = int(v[1])-1\n",
    "        N[f][r] = d['weight']\n",
    "\n",
    "fig = plt.figure(frameon=False)\n",
    "\n",
    "extent = 1,8,1,8\n",
    "chessboard = np.add.outer(range(8), range(8)) % 2  # chessboard\n",
    "im1 = plt.imshow(chessboard, cmap=plt.cm.gray, alpha=0.2,interpolation='nearest', extent=extent)\n",
    "im2 = plt.imshow(N, cmap=plt.cm.jet, alpha=0.8, origin='lower', extent=extent)\n",
    "\n",
    "plt.show()"
   ],
   "metadata": {
    "collapsed": false
   }
  },
  {
   "cell_type": "code",
   "execution_count": 373,
   "outputs": [
    {
     "data": {
      "text/plain": "<Figure size 432x288 with 1 Axes>",
      "image/png": "[encoded data removed]"
     },
     "metadata": {
      "needs_background": "light"
     },
     "output_type": "display_data"
    }
   ],
   "source": [
    "R = [[0 for i in range(8)] for j in range(8)]\n",
    "for u,v,d in C.edges(data=True):\n",
    "    if u == 'R' and v in board:\n",
    "        f = int(ord(v[0])-96)-1\n",
    "        r = int(v[1])-1\n",
    "        R[f][r] = d['weight']\n",
    "\n",
    "fig = plt.figure(frameon=False)\n",
    "\n",
    "extent = 1,8,1,8\n",
    "chessboard = np.add.outer(range(8), range(8)) % 2  # chessboard\n",
    "im1 = plt.imshow(chessboard, cmap=plt.cm.gray, alpha=0.2,interpolation='nearest', extent=extent)\n",
    "im2 = plt.imshow(R, cmap=plt.cm.jet, alpha=0.8, origin='lower', extent=extent)\n",
    "\n",
    "plt.show()"
   ],
   "metadata": {
    "collapsed": false
   }
  },
  {
   "cell_type": "code",
   "execution_count": 425,
   "outputs": [
    {
     "ename": "ValueError",
     "evalue": "Found array with 0 sample(s) (shape=(0, 2)) while a minimum of 1 is required.",
     "output_type": "error",
     "traceback": [
      "\u001B[0;31m---------------------------------------------------------------------------\u001B[0m",
      "\u001B[0;31mValueError\u001B[0m                                Traceback (most recent call last)",
      "Input \u001B[0;32mIn [425]\u001B[0m, in \u001B[0;36m<cell line: 3>\u001B[0;34m()\u001B[0m\n\u001B[1;32m      1\u001B[0m \u001B[38;5;28;01mfrom\u001B[39;00m \u001B[38;5;21;01msklearn\u001B[39;00m\u001B[38;5;21;01m.\u001B[39;00m\u001B[38;5;21;01mcluster\u001B[39;00m \u001B[38;5;28;01mimport\u001B[39;00m KMeans\n\u001B[1;32m      2\u001B[0m df5 \u001B[38;5;241m=\u001B[39m df[df\u001B[38;5;241m.\u001B[39mEvent \u001B[38;5;241m==\u001B[39m \u001B[38;5;124m'\u001B[39m\u001B[38;5;124mClassical Tournament\u001B[39m\u001B[38;5;124m'\u001B[39m]\n\u001B[0;32m----> 3\u001B[0m kmeans \u001B[38;5;241m=\u001B[39m \u001B[43mKMeans\u001B[49m\u001B[43m(\u001B[49m\u001B[43mn_clusters\u001B[49m\u001B[38;5;241;43m=\u001B[39;49m\u001B[38;5;241;43m3\u001B[39;49m\u001B[43m)\u001B[49m\u001B[38;5;241;43m.\u001B[39;49m\u001B[43mfit\u001B[49m\u001B[43m(\u001B[49m\u001B[43mdf5\u001B[49m\u001B[43m[\u001B[49m\u001B[43m[\u001B[49m\u001B[38;5;124;43m'\u001B[39;49m\u001B[38;5;124;43mWhiteElo\u001B[39;49m\u001B[38;5;124;43m'\u001B[39;49m\u001B[43m,\u001B[49m\u001B[43m \u001B[49m\u001B[38;5;124;43m'\u001B[39;49m\u001B[38;5;124;43mBlackElo\u001B[39;49m\u001B[38;5;124;43m'\u001B[39;49m\u001B[43m]\u001B[49m\u001B[43m]\u001B[49m\u001B[43m)\u001B[49m\n\u001B[1;32m      5\u001B[0m \u001B[38;5;66;03m# print(\"Labels:\",kmeans.labels_)\u001B[39;00m\n\u001B[1;32m      6\u001B[0m \u001B[38;5;66;03m# print(\"Centers:\",kmeans.cluster_centers_)\u001B[39;00m\n\u001B[1;32m      7\u001B[0m \u001B[38;5;66;03m# print(\"Inertia:\",kmeans.inertia_) #sum of squared distances to closest center\u001B[39;00m\n\u001B[1;32m      8\u001B[0m \u001B[38;5;66;03m# df_topOpenings['Opening']=kmeans.labels_\u001B[39;00m\n\u001B[1;32m      9\u001B[0m fig, ax \u001B[38;5;241m=\u001B[39m plt\u001B[38;5;241m.\u001B[39msubplots(figsize\u001B[38;5;241m=\u001B[39m(\u001B[38;5;241m6\u001B[39m,\u001B[38;5;241m4\u001B[39m))\n",
      "File \u001B[0;32m~/opt/anaconda3/lib/python3.9/site-packages/sklearn/cluster/_kmeans.py:1137\u001B[0m, in \u001B[0;36mKMeans.fit\u001B[0;34m(self, X, y, sample_weight)\u001B[0m\n\u001B[1;32m   1111\u001B[0m \u001B[38;5;28;01mdef\u001B[39;00m \u001B[38;5;21mfit\u001B[39m(\u001B[38;5;28mself\u001B[39m, X, y\u001B[38;5;241m=\u001B[39m\u001B[38;5;28;01mNone\u001B[39;00m, sample_weight\u001B[38;5;241m=\u001B[39m\u001B[38;5;28;01mNone\u001B[39;00m):\n\u001B[1;32m   1112\u001B[0m     \u001B[38;5;124;03m\"\"\"Compute k-means clustering.\u001B[39;00m\n\u001B[1;32m   1113\u001B[0m \n\u001B[1;32m   1114\u001B[0m \u001B[38;5;124;03m    Parameters\u001B[39;00m\n\u001B[0;32m   (...)\u001B[0m\n\u001B[1;32m   1135\u001B[0m \u001B[38;5;124;03m        Fitted estimator.\u001B[39;00m\n\u001B[1;32m   1136\u001B[0m \u001B[38;5;124;03m    \"\"\"\u001B[39;00m\n\u001B[0;32m-> 1137\u001B[0m     X \u001B[38;5;241m=\u001B[39m \u001B[38;5;28;43mself\u001B[39;49m\u001B[38;5;241;43m.\u001B[39;49m\u001B[43m_validate_data\u001B[49m\u001B[43m(\u001B[49m\n\u001B[1;32m   1138\u001B[0m \u001B[43m        \u001B[49m\u001B[43mX\u001B[49m\u001B[43m,\u001B[49m\n\u001B[1;32m   1139\u001B[0m \u001B[43m        \u001B[49m\u001B[43maccept_sparse\u001B[49m\u001B[38;5;241;43m=\u001B[39;49m\u001B[38;5;124;43m\"\u001B[39;49m\u001B[38;5;124;43mcsr\u001B[39;49m\u001B[38;5;124;43m\"\u001B[39;49m\u001B[43m,\u001B[49m\n\u001B[1;32m   1140\u001B[0m \u001B[43m        \u001B[49m\u001B[43mdtype\u001B[49m\u001B[38;5;241;43m=\u001B[39;49m\u001B[43m[\u001B[49m\u001B[43mnp\u001B[49m\u001B[38;5;241;43m.\u001B[39;49m\u001B[43mfloat64\u001B[49m\u001B[43m,\u001B[49m\u001B[43m \u001B[49m\u001B[43mnp\u001B[49m\u001B[38;5;241;43m.\u001B[39;49m\u001B[43mfloat32\u001B[49m\u001B[43m]\u001B[49m\u001B[43m,\u001B[49m\n\u001B[1;32m   1141\u001B[0m \u001B[43m        \u001B[49m\u001B[43morder\u001B[49m\u001B[38;5;241;43m=\u001B[39;49m\u001B[38;5;124;43m\"\u001B[39;49m\u001B[38;5;124;43mC\u001B[39;49m\u001B[38;5;124;43m\"\u001B[39;49m\u001B[43m,\u001B[49m\n\u001B[1;32m   1142\u001B[0m \u001B[43m        \u001B[49m\u001B[43mcopy\u001B[49m\u001B[38;5;241;43m=\u001B[39;49m\u001B[38;5;28;43mself\u001B[39;49m\u001B[38;5;241;43m.\u001B[39;49m\u001B[43mcopy_x\u001B[49m\u001B[43m,\u001B[49m\n\u001B[1;32m   1143\u001B[0m \u001B[43m        \u001B[49m\u001B[43maccept_large_sparse\u001B[49m\u001B[38;5;241;43m=\u001B[39;49m\u001B[38;5;28;43;01mFalse\u001B[39;49;00m\u001B[43m,\u001B[49m\n\u001B[1;32m   1144\u001B[0m \u001B[43m    \u001B[49m\u001B[43m)\u001B[49m\n\u001B[1;32m   1146\u001B[0m     \u001B[38;5;28mself\u001B[39m\u001B[38;5;241m.\u001B[39m_check_params(X)\n\u001B[1;32m   1147\u001B[0m     random_state \u001B[38;5;241m=\u001B[39m check_random_state(\u001B[38;5;28mself\u001B[39m\u001B[38;5;241m.\u001B[39mrandom_state)\n",
      "File \u001B[0;32m~/opt/anaconda3/lib/python3.9/site-packages/sklearn/base.py:566\u001B[0m, in \u001B[0;36mBaseEstimator._validate_data\u001B[0;34m(self, X, y, reset, validate_separately, **check_params)\u001B[0m\n\u001B[1;32m    564\u001B[0m     \u001B[38;5;28;01mraise\u001B[39;00m \u001B[38;5;167;01mValueError\u001B[39;00m(\u001B[38;5;124m\"\u001B[39m\u001B[38;5;124mValidation should be done on X, y or both.\u001B[39m\u001B[38;5;124m\"\u001B[39m)\n\u001B[1;32m    565\u001B[0m \u001B[38;5;28;01melif\u001B[39;00m \u001B[38;5;129;01mnot\u001B[39;00m no_val_X \u001B[38;5;129;01mand\u001B[39;00m no_val_y:\n\u001B[0;32m--> 566\u001B[0m     X \u001B[38;5;241m=\u001B[39m \u001B[43mcheck_array\u001B[49m\u001B[43m(\u001B[49m\u001B[43mX\u001B[49m\u001B[43m,\u001B[49m\u001B[43m \u001B[49m\u001B[38;5;241;43m*\u001B[39;49m\u001B[38;5;241;43m*\u001B[39;49m\u001B[43mcheck_params\u001B[49m\u001B[43m)\u001B[49m\n\u001B[1;32m    567\u001B[0m     out \u001B[38;5;241m=\u001B[39m X\n\u001B[1;32m    568\u001B[0m \u001B[38;5;28;01melif\u001B[39;00m no_val_X \u001B[38;5;129;01mand\u001B[39;00m \u001B[38;5;129;01mnot\u001B[39;00m no_val_y:\n",
      "File \u001B[0;32m~/opt/anaconda3/lib/python3.9/site-packages/sklearn/utils/validation.py:805\u001B[0m, in \u001B[0;36mcheck_array\u001B[0;34m(array, accept_sparse, accept_large_sparse, dtype, order, copy, force_all_finite, ensure_2d, allow_nd, ensure_min_samples, ensure_min_features, estimator)\u001B[0m\n\u001B[1;32m    803\u001B[0m     n_samples \u001B[38;5;241m=\u001B[39m _num_samples(array)\n\u001B[1;32m    804\u001B[0m     \u001B[38;5;28;01mif\u001B[39;00m n_samples \u001B[38;5;241m<\u001B[39m ensure_min_samples:\n\u001B[0;32m--> 805\u001B[0m         \u001B[38;5;28;01mraise\u001B[39;00m \u001B[38;5;167;01mValueError\u001B[39;00m(\n\u001B[1;32m    806\u001B[0m             \u001B[38;5;124m\"\u001B[39m\u001B[38;5;124mFound array with \u001B[39m\u001B[38;5;132;01m%d\u001B[39;00m\u001B[38;5;124m sample(s) (shape=\u001B[39m\u001B[38;5;132;01m%s\u001B[39;00m\u001B[38;5;124m) while a\u001B[39m\u001B[38;5;124m\"\u001B[39m\n\u001B[1;32m    807\u001B[0m             \u001B[38;5;124m\"\u001B[39m\u001B[38;5;124m minimum of \u001B[39m\u001B[38;5;132;01m%d\u001B[39;00m\u001B[38;5;124m is required\u001B[39m\u001B[38;5;132;01m%s\u001B[39;00m\u001B[38;5;124m.\u001B[39m\u001B[38;5;124m\"\u001B[39m\n\u001B[1;32m    808\u001B[0m             \u001B[38;5;241m%\u001B[39m (n_samples, array\u001B[38;5;241m.\u001B[39mshape, ensure_min_samples, context)\n\u001B[1;32m    809\u001B[0m         )\n\u001B[1;32m    811\u001B[0m \u001B[38;5;28;01mif\u001B[39;00m ensure_min_features \u001B[38;5;241m>\u001B[39m \u001B[38;5;241m0\u001B[39m \u001B[38;5;129;01mand\u001B[39;00m array\u001B[38;5;241m.\u001B[39mndim \u001B[38;5;241m==\u001B[39m \u001B[38;5;241m2\u001B[39m:\n\u001B[1;32m    812\u001B[0m     n_features \u001B[38;5;241m=\u001B[39m array\u001B[38;5;241m.\u001B[39mshape[\u001B[38;5;241m1\u001B[39m]\n",
      "\u001B[0;31mValueError\u001B[0m: Found array with 0 sample(s) (shape=(0, 2)) while a minimum of 1 is required."
     ]
    }
   ],
   "source": [
    "from sklearn.cluster import KMeans\n",
    "df5 = df[df.Event == 'Classical Tournament']\n",
    "kmeans = KMeans(n_clusters=3).fit(df5[['WhiteElo', 'BlackElo']])\n",
    "\n",
    "# print(\"Labels:\",kmeans.labels_)\n",
    "# print(\"Centers:\",kmeans.cluster_centers_)\n",
    "# print(\"Inertia:\",kmeans.inertia_) #sum of squared distances to closest center\n",
    "# df_topOpenings['Opening']=kmeans.labels_\n",
    "fig, ax = plt.subplots(figsize=(6,4))\n",
    "ax.scatter(df5['WhiteElo'], df5['BlackElo'],c='k',s=5)\n",
    "plt.title(\"Simulated Data\")\n",
    "plt.xlabel(\"WhiteElo\")\n",
    "plt.ylabel(\"BlackElo\")\n",
    "plt.show()"
   ],
   "metadata": {
    "collapsed": false
   }
  }
 ],
 "metadata": {
  "kernelspec": {
   "display_name": "Python 3",
   "language": "python",
   "name": "python3"
  },
  "language_info": {
   "codemirror_mode": {
    "name": "ipython",
    "version": 2
   },
   "file_extension": ".py",
   "mimetype": "text/x-python",
   "name": "python",
   "nbconvert_exporter": "python",
   "pygments_lexer": "ipython2",
   "version": "2.7.6"
  }
 },
 "nbformat": 4,
 "nbformat_minor": 0
}
